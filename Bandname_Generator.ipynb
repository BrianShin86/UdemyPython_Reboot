{
 "cells": [
  {
   "cell_type": "code",
   "execution_count": 1,
   "id": "9bc0a427-4196-4c68-84f3-cb32292f975b",
   "metadata": {},
   "outputs": [
    {
     "name": "stdout",
     "output_type": "stream",
     "text": [
      "Welcome to the Band Name Generator.\n"
     ]
    },
    {
     "name": "stdin",
     "output_type": "stream",
     "text": [
      "What's name of the city you grew up in?\n",
      " Rockville\n",
      "What's your pet's name?\n",
      " Coco\n"
     ]
    },
    {
     "name": "stdout",
     "output_type": "stream",
     "text": [
      "Rockville Coco\n"
     ]
    }
   ],
   "source": [
    "#1. Create a greeting for your program.\n",
    "print(\"Welcome to the Band Name Generator.\")\n",
    "#2. Ask the user for the city that they grew up in.\n",
    "city = input(\"What's name of the city you grew up in?\\n\")\n",
    "#3. Ask the user for the name of a pet.\n",
    "pet = input(\"What's your pet's name?\\n\")\n",
    "#4. Combine the name of their city and pet and show them their band name.\n",
    "print(city + ' ' + pet)\n",
    "#5. Make sure the input cursor shows on a new line, see the example at:\n",
    "#   https://replit.com/@appbrewery/band-name-generator-end"
   ]
  },
  {
   "cell_type": "code",
   "execution_count": null,
   "id": "0d1475b0-0a52-4ad7-8a15-36f8bff6b52a",
   "metadata": {},
   "outputs": [],
   "source": []
  }
 ],
 "metadata": {
  "kernelspec": {
   "display_name": "Python 3 (ipykernel)",
   "language": "python",
   "name": "python3"
  },
  "language_info": {
   "codemirror_mode": {
    "name": "ipython",
    "version": 3
   },
   "file_extension": ".py",
   "mimetype": "text/x-python",
   "name": "python",
   "nbconvert_exporter": "python",
   "pygments_lexer": "ipython3",
   "version": "3.9.7"
  }
 },
 "nbformat": 4,
 "nbformat_minor": 5
}
