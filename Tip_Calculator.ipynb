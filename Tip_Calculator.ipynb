{
 "cells": [
  {
   "cell_type": "code",
   "execution_count": null,
   "id": "ef345c8c-27b8-464b-96ec-64ffc661b80a",
   "metadata": {},
   "outputs": [],
   "source": [
    "#If the bill was $150.00, split between 5 people, with 12% tip. \n",
    "\n",
    "#Each person should pay (150.00 / 5) * 1.12 = 33.6\n",
    "#Format the result to 2 decimal places = 33.60\n",
    "\n",
    "#Tip: There are 2 ways to round a number. You might have to do some Googling to solve this.💪\n",
    "\n",
    "#Write your code below this line 👇\n",
    "print(\"Welcome to the tip calculator!\")\n",
    "total = input(\"What was the total bill? $\")\n",
    "tip = input(\"How much tip would you like to give? 10 ,12 or 15? \")\n",
    "split = input(\"How many people to split the bill? \")\n",
    "\n",
    "final = round((float(total) * (1 + int(tip) / 100) / int(split)),2)\n",
    "print(f\"Each person should pay: ${final}\")"
   ]
  }
 ],
 "metadata": {
  "kernelspec": {
   "display_name": "Python 3 (ipykernel)",
   "language": "python",
   "name": "python3"
  },
  "language_info": {
   "codemirror_mode": {
    "name": "ipython",
    "version": 3
   },
   "file_extension": ".py",
   "mimetype": "text/x-python",
   "name": "python",
   "nbconvert_exporter": "python",
   "pygments_lexer": "ipython3",
   "version": "3.9.7"
  }
 },
 "nbformat": 4,
 "nbformat_minor": 5
}
