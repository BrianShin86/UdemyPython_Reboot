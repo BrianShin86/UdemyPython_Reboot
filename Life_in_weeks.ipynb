{
 "cells": [
  {
   "cell_type": "code",
   "execution_count": null,
   "id": "8a52171d-a081-4957-bdd1-18d19720f3fa",
   "metadata": {},
   "outputs": [],
   "source": [
    "# 🚨 Don't change the code below 👇\n",
    "age = input(\"What is your current age?\")\n",
    "# 🚨 Don't change the code above 👆\n",
    "\n",
    "#Write your code below this line 👇\n",
    "Total_Age = 90\n",
    "months = (Total_Age - int(age)) * 12\n",
    "weeks = (Total_Age - int(age)) * 52\n",
    "days = (Total_Age - int(age)) * 365\n",
    "print(f\"You have {days} days, {weeks} weeks, and {months} months left.\")\n"
   ]
  }
 ],
 "metadata": {
  "kernelspec": {
   "display_name": "Python 3 (ipykernel)",
   "language": "python",
   "name": "python3"
  },
  "language_info": {
   "codemirror_mode": {
    "name": "ipython",
    "version": 3
   },
   "file_extension": ".py",
   "mimetype": "text/x-python",
   "name": "python",
   "nbconvert_exporter": "python",
   "pygments_lexer": "ipython3",
   "version": "3.9.7"
  }
 },
 "nbformat": 4,
 "nbformat_minor": 5
}
